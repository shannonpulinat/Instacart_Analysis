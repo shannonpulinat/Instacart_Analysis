{
 "cells": [
  {
   "cell_type": "markdown",
   "id": "c5499825",
   "metadata": {},
   "source": [
    "# 01. Import Libraries\n"
   ]
  },
  {
   "cell_type": "code",
   "execution_count": 2,
   "id": "eb0deded",
   "metadata": {},
   "outputs": [],
   "source": [
    "import pandas as pd\n",
    "import numpy as np\n",
    "import os"
   ]
  },
  {
   "cell_type": "markdown",
   "id": "bbcb2d7e",
   "metadata": {},
   "source": [
    "# 02. Data Types"
   ]
  },
  {
   "cell_type": "code",
   "execution_count": 8,
   "id": "ea2dcbfe",
   "metadata": {},
   "outputs": [],
   "source": [
    "a=50"
   ]
  },
  {
   "cell_type": "code",
   "execution_count": 15,
   "id": "e6e97270",
   "metadata": {},
   "outputs": [
    {
     "data": {
      "text/plain": [
       "100"
      ]
     },
     "execution_count": 15,
     "metadata": {},
     "output_type": "execute_result"
    }
   ],
   "source": [
    "a+a"
   ]
  },
  {
   "cell_type": "code",
   "execution_count": 19,
   "id": "922a089f",
   "metadata": {},
   "outputs": [
    {
     "data": {
      "text/plain": [
       "int"
      ]
     },
     "execution_count": 19,
     "metadata": {},
     "output_type": "execute_result"
    }
   ],
   "source": [
    "type(a)"
   ]
  },
  {
   "cell_type": "code",
   "execution_count": 20,
   "id": "80a53bb2",
   "metadata": {},
   "outputs": [],
   "source": [
    "b=150"
   ]
  },
  {
   "cell_type": "code",
   "execution_count": 21,
   "id": "4ba7d029",
   "metadata": {},
   "outputs": [
    {
     "data": {
      "text/plain": [
       "100"
      ]
     },
     "execution_count": 21,
     "metadata": {},
     "output_type": "execute_result"
    }
   ],
   "source": [
    "b-a"
   ]
  },
  {
   "cell_type": "code",
   "execution_count": 22,
   "id": "ad9f3a5b",
   "metadata": {},
   "outputs": [],
   "source": [
    "c=90"
   ]
  },
  {
   "cell_type": "code",
   "execution_count": 23,
   "id": "2d125505",
   "metadata": {},
   "outputs": [],
   "source": [
    "d=10"
   ]
  },
  {
   "cell_type": "code",
   "execution_count": 24,
   "id": "aa234fd3",
   "metadata": {},
   "outputs": [
    {
     "data": {
      "text/plain": [
       "100"
      ]
     },
     "execution_count": 24,
     "metadata": {},
     "output_type": "execute_result"
    }
   ],
   "source": [
    "c+d"
   ]
  },
  {
   "cell_type": "code",
   "execution_count": 25,
   "id": "da33fc11",
   "metadata": {},
   "outputs": [],
   "source": [
    "e=54.398"
   ]
  },
  {
   "cell_type": "code",
   "execution_count": 26,
   "id": "3c75fbcc",
   "metadata": {},
   "outputs": [],
   "source": [
    "f=6.928"
   ]
  },
  {
   "cell_type": "code",
   "execution_count": 27,
   "id": "524cc058",
   "metadata": {},
   "outputs": [
    {
     "data": {
      "text/plain": [
       "7.8519053117782915"
      ]
     },
     "execution_count": 27,
     "metadata": {},
     "output_type": "execute_result"
    }
   ],
   "source": [
    "e/f"
   ]
  },
  {
   "cell_type": "code",
   "execution_count": 28,
   "id": "1d407f71",
   "metadata": {},
   "outputs": [],
   "source": [
    "a='da'"
   ]
  },
  {
   "cell_type": "code",
   "execution_count": 29,
   "id": "596688ae",
   "metadata": {},
   "outputs": [],
   "source": [
    "b='ta'"
   ]
  },
  {
   "cell_type": "code",
   "execution_count": 30,
   "id": "2ac80c1f",
   "metadata": {},
   "outputs": [],
   "source": [
    "c=' '"
   ]
  },
  {
   "cell_type": "code",
   "execution_count": 31,
   "id": "a767dc3c",
   "metadata": {},
   "outputs": [],
   "source": [
    "d='anal'"
   ]
  },
  {
   "cell_type": "code",
   "execution_count": 32,
   "id": "9ea40a7a",
   "metadata": {},
   "outputs": [],
   "source": [
    "f='yst'"
   ]
  },
  {
   "cell_type": "code",
   "execution_count": 33,
   "id": "08edb132",
   "metadata": {},
   "outputs": [
    {
     "data": {
      "text/plain": [
       "'data analyst'"
      ]
     },
     "execution_count": 33,
     "metadata": {},
     "output_type": "execute_result"
    }
   ],
   "source": [
    "a+b+c+d+f"
   ]
  },
  {
   "cell_type": "code",
   "execution_count": 34,
   "id": "0ce1f850",
   "metadata": {},
   "outputs": [],
   "source": [
    "a=\"I'm excited to learn\""
   ]
  },
  {
   "cell_type": "code",
   "execution_count": 35,
   "id": "726850ba",
   "metadata": {},
   "outputs": [],
   "source": [
    "b=' how to code on python.'"
   ]
  },
  {
   "cell_type": "code",
   "execution_count": 36,
   "id": "3e074dff",
   "metadata": {},
   "outputs": [],
   "source": [
    "c=' I definitely need'"
   ]
  },
  {
   "cell_type": "code",
   "execution_count": 37,
   "id": "0a4a9eca",
   "metadata": {},
   "outputs": [],
   "source": [
    "d=' to practice though!'"
   ]
  },
  {
   "cell_type": "code",
   "execution_count": 38,
   "id": "854dfff1",
   "metadata": {},
   "outputs": [
    {
     "data": {
      "text/plain": [
       "\"I'm excited to learn how to code on python. I definitely need to practice though!\""
      ]
     },
     "execution_count": 38,
     "metadata": {},
     "output_type": "execute_result"
    }
   ],
   "source": [
    "a+b+c+d"
   ]
  },
  {
   "cell_type": "code",
   "execution_count": 39,
   "id": "0663e400",
   "metadata": {},
   "outputs": [],
   "source": [
    "a='Shannon'"
   ]
  },
  {
   "cell_type": "code",
   "execution_count": 40,
   "id": "32fc3515",
   "metadata": {},
   "outputs": [
    {
     "data": {
      "text/plain": [
       "'ShannonShannonShannonShannonShannonShannonShannonShannonShannonShannonShannonShannonShannonShannonShannonShannonShannonShannonShannonShannonShannonShannonShannonShannonShannonShannonShannonShannonShannonShannonShannonShannonShannonShannonShannonShannonShannonShannonShannonShannonShannonShannonShannonShannonShannonShannonShannonShannonShannonShannonShannonShannonShannonShannonShannonShannonShannonShannonShannonShannonShannonShannonShannonShannonShannonShannonShannonShannonShannonShannonShannonShannonShannonShannonShannonShannonShannonShannonShannonShannonShannonShannonShannonShannonShannonShannonShannonShannonShannonShannonShannonShannonShannonShannonShannonShannonShannonShannonShannonShannon'"
      ]
     },
     "execution_count": 40,
     "metadata": {},
     "output_type": "execute_result"
    }
   ],
   "source": [
    "a*100"
   ]
  },
  {
   "cell_type": "code",
   "execution_count": null,
   "id": "fcaaea2c",
   "metadata": {},
   "outputs": [],
   "source": []
  }
 ],
 "metadata": {
  "kernelspec": {
   "display_name": "Python 3 (ipykernel)",
   "language": "python",
   "name": "python3"
  },
  "language_info": {
   "codemirror_mode": {
    "name": "ipython",
    "version": 3
   },
   "file_extension": ".py",
   "mimetype": "text/x-python",
   "name": "python",
   "nbconvert_exporter": "python",
   "pygments_lexer": "ipython3",
   "version": "3.10.9"
  }
 },
 "nbformat": 4,
 "nbformat_minor": 5
}
